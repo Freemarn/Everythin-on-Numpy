{
 "cells": [
  {
   "cell_type": "markdown",
   "metadata": {},
   "source": [
    "## Introduction to Numpy\n",
    "\n",
    "#### Numpy is a powerful python tool that is used to create and manipulate multi-dimensional array known as tensors or Matricces. Numpy is also an exceptional tool for Artificial Intelligence and it is nearly impossible to go into AI without knowning the fundamentals of Numpy.\n",
    "#### Numpy provide users with Data manipulation tools such as large array manipulation (Matrices) and high level mathematical functions."
   ]
  },
  {
   "cell_type": "markdown",
   "metadata": {},
   "source": [
    "# PART 1"
   ]
  },
  {
   "cell_type": "markdown",
   "metadata": {},
   "source": [
    "## How to Create a Numpy Array Part\n",
    "#### there are several ways in which a Numpy Array can be formed, they are:"
   ]
  },
  {
   "cell_type": "code",
   "execution_count": 3,
   "metadata": {},
   "outputs": [
    {
     "name": "stdout",
     "output_type": "stream",
     "text": [
      "[1 3 4 5]\n"
     ]
    },
    {
     "data": {
      "text/plain": [
       "numpy.ndarray"
      ]
     },
     "execution_count": 3,
     "metadata": {},
     "output_type": "execute_result"
    }
   ],
   "source": [
    "import numpy as np\n",
    "list1 = [1,3,4,5]\n",
    "arr1 = np.array(list1)\n",
    "print(arr1)\n",
    "type(arr1)"
   ]
  },
  {
   "cell_type": "code",
   "execution_count": 4,
   "metadata": {},
   "outputs": [],
   "source": [
    "#list1 + 2 --- this code will output an error because python list were not built to perform \n",
    "#vectorizedoperations, unlike arrays the function will output an array with every of its individual \n",
    "#item increased by 2\"\"\""
   ]
  },
  {
   "cell_type": "code",
   "execution_count": 5,
   "metadata": {},
   "outputs": [
    {
     "data": {
      "text/plain": [
       "array([3, 5, 6, 7])"
      ]
     },
     "execution_count": 5,
     "metadata": {},
     "output_type": "execute_result"
    }
   ],
   "source": [
    "arr1 + 2"
   ]
  },
  {
   "cell_type": "code",
   "execution_count": 6,
   "metadata": {},
   "outputs": [
    {
     "name": "stdout",
     "output_type": "stream",
     "text": [
      "[[2 4 5]\n",
      " [3 5 2]\n",
      " [2 2 2]]\n",
      "<class 'numpy.ndarray'>\n"
     ]
    }
   ],
   "source": [
    "#once a list is created, you cant increase the size in order words a new one has to be created\n",
    "# But such operation is possible with a list.\n",
    "list2d = [[2,4,5], [3,5,2], [2,2,2]]\n",
    "#A two Dimensional Array\n",
    "arr2d = np.array(list2d)\n",
    "print(arr2d)\n",
    "print(type(arr2d))"
   ]
  },
  {
   "cell_type": "code",
   "execution_count": 7,
   "metadata": {},
   "outputs": [
    {
     "name": "stdout",
     "output_type": "stream",
     "text": [
      "[[2. 2. 2.]\n",
      " [3. 3. 3.]\n",
      " [4. 4. 4.]]\n",
      "<class 'numpy.ndarray'>\n"
     ]
    }
   ],
   "source": [
    "# The data type can also cbe specified as int, float,str, bool or object.\n",
    "list2d_f = [[2,2,2], [3,3,3], [4,4,4]]\n",
    "arr2d_f = np.array(list2d_f, dtype = \"float\")\n",
    "print(arr2d_f)\n",
    "print(type(arr2d_f))"
   ]
  },
  {
   "cell_type": "code",
   "execution_count": 8,
   "metadata": {},
   "outputs": [
    {
     "data": {
      "text/plain": [
       "array([[2, 2, 2],\n",
       "       [3, 3, 3],\n",
       "       [4, 4, 4]])"
      ]
     },
     "execution_count": 8,
     "metadata": {},
     "output_type": "execute_result"
    }
   ],
   "source": [
    "#Convert to int\n",
    "arr2d_f.astype(\"int\")"
   ]
  },
  {
   "cell_type": "code",
   "execution_count": 9,
   "metadata": {},
   "outputs": [
    {
     "data": {
      "text/plain": [
       "array([['2', '2', '2'],\n",
       "       ['3', '3', '3'],\n",
       "       ['4', '4', '4']], dtype='<U11')"
      ]
     },
     "execution_count": 9,
     "metadata": {},
     "output_type": "execute_result"
    }
   ],
   "source": [
    "#Convert to str\n",
    "arr2d_f.astype(\"int\").astype(\"str\")"
   ]
  },
  {
   "cell_type": "code",
   "execution_count": 10,
   "metadata": {},
   "outputs": [
    {
     "name": "stdout",
     "output_type": "stream",
     "text": [
      "[ True False  True]\n"
     ]
    }
   ],
   "source": [
    "#Convert to bool\n",
    "list2d_b = [5, 0, 10]\n",
    "arr2d_b = np.array(list2d_b, dtype=\"bool\" )\n",
    "print(arr2d_b)"
   ]
  },
  {
   "cell_type": "code",
   "execution_count": 11,
   "metadata": {},
   "outputs": [
    {
     "data": {
      "text/plain": [
       "array([ True, False,  True])"
      ]
     },
     "execution_count": 11,
     "metadata": {},
     "output_type": "execute_result"
    }
   ],
   "source": [
    "#or\n",
    "arr2d_b.astype(\"bool\")"
   ]
  },
  {
   "cell_type": "code",
   "execution_count": 12,
   "metadata": {},
   "outputs": [
    {
     "name": "stdout",
     "output_type": "stream",
     "text": [
      "[[2 3 4.5]\n",
      " ['ip' 0 2]]\n"
     ]
    }
   ],
   "source": [
    "# Note: Every item in an array must contain same data type, but the list can take different dtypes.\n",
    "# However to create an array with different items you can use the Object dtype.\n",
    "list2d_o = [[2,3,4.5], [\"ip\",0,2]]\n",
    "arr2d_o = np.array(list2d_o, dtype =\"object\")\n",
    "print(arr2d_o)"
   ]
  },
  {
   "cell_type": "code",
   "execution_count": 13,
   "metadata": {},
   "outputs": [
    {
     "data": {
      "text/plain": [
       "[[2.0, 2.0, 2.0], [3.0, 3.0, 3.0], [4.0, 4.0, 4.0]]"
      ]
     },
     "execution_count": 13,
     "metadata": {},
     "output_type": "execute_result"
    }
   ],
   "source": [
    "# An array can always be converted back to a python list using the tolist() finction\n",
    "arr2d_f.tolist()"
   ]
  },
  {
   "cell_type": "code",
   "execution_count": 14,
   "metadata": {},
   "outputs": [],
   "source": [
    "# Differences Between python lists and arrays\n",
    "#1 Array performs vectorized operations, while lists dont\n",
    "#2 the size of an array cannot be increased, a new one has to be created\n",
    "#3 An array occupies less space than an equivalent list of list\n",
    "#4 Every has just one Data type except converted to an object"
   ]
  },
  {
   "cell_type": "markdown",
   "metadata": {},
   "source": [
    "# PART 2"
   ]
  },
  {
   "cell_type": "markdown",
   "metadata": {},
   "source": [
    "## Inspecting the Size and Shape of an array"
   ]
  },
  {
   "cell_type": "markdown",
   "metadata": {},
   "source": [
    "#### most times we might be presented with arrays that wasnt built by us, and some of the very crucial parameters to watch out for are:\n",
    "\n",
    "#### 1) check wether it is a 1 or 2 Dimensional array ( \"\"ndim\"\" is used )\n",
    "#### 2) check how many items are present in each dimensions ( shape is used )\n",
    "#### 3) check for the total number of items in the array ( \"\"size\"\" is used )\n",
    "#### 4) check for the Data type of the array ( \"\"dtype\"\" is used )\n",
    "#### 5) Getting first few samples of the item in the array ( indexing )"
   ]
  },
  {
   "cell_type": "code",
   "execution_count": 15,
   "metadata": {},
   "outputs": [
    {
     "name": "stdout",
     "output_type": "stream",
     "text": [
      "[[2 3 4 5]\n",
      " [2 4 6 8]\n",
      " [3 2 1 4]]\n"
     ]
    }
   ],
   "source": [
    "list2d = ([2,3,4,5], [2,4,6,8], [3,2,1,4])\n",
    "arr2D = np.array(list2d, dtype= \"int\")\n",
    "print(arr2D)"
   ]
  },
  {
   "cell_type": "code",
   "execution_count": 16,
   "metadata": {},
   "outputs": [
    {
     "name": "stdout",
     "output_type": "stream",
     "text": [
      "Dimension : 2\n"
     ]
    }
   ],
   "source": [
    "#ndim\n",
    "print(\"Dimension :\", arr2D.ndim)"
   ]
  },
  {
   "cell_type": "code",
   "execution_count": 17,
   "metadata": {},
   "outputs": [
    {
     "name": "stdout",
     "output_type": "stream",
     "text": [
      "shape : (3, 4)\n"
     ]
    }
   ],
   "source": [
    "#shape\n",
    "print(\"shape :\", arr2D.shape)"
   ]
  },
  {
   "cell_type": "code",
   "execution_count": 18,
   "metadata": {},
   "outputs": [
    {
     "name": "stdout",
     "output_type": "stream",
     "text": [
      "Size : 12\n"
     ]
    }
   ],
   "source": [
    "#size\n",
    "print(\"Size :\", arr2D.size)"
   ]
  },
  {
   "cell_type": "code",
   "execution_count": 19,
   "metadata": {},
   "outputs": [
    {
     "name": "stdout",
     "output_type": "stream",
     "text": [
      "Data type : int32\n"
     ]
    }
   ],
   "source": [
    "#dtype\n",
    "print(\"Data type :\", arr2D.dtype)"
   ]
  },
  {
   "cell_type": "markdown",
   "metadata": {},
   "source": [
    "# PART 3"
   ]
  },
  {
   "cell_type": "markdown",
   "metadata": {},
   "source": [
    "## How to extract specific items from an Array"
   ]
  },
  {
   "cell_type": "code",
   "execution_count": 20,
   "metadata": {},
   "outputs": [
    {
     "name": "stdout",
     "output_type": "stream",
     "text": [
      "[[2 3 4 5]\n",
      " [2 4 6 8]\n",
      " [3 2 1 4]]\n"
     ]
    }
   ],
   "source": [
    "#let us consider a 3 by 4 array Below\n",
    "list2d = ([2,3,4,5], [2,4,6,8], [3,2,1,4])\n",
    "arr2D = np.array(list2d, dtype= \"int\")\n",
    "print(arr2D)"
   ]
  },
  {
   "cell_type": "markdown",
   "metadata": {},
   "source": [
    "##### Note: Certain portion of an array can be indexed starting with Zero(0)"
   ]
  },
  {
   "cell_type": "code",
   "execution_count": 21,
   "metadata": {},
   "outputs": [
    {
     "data": {
      "text/plain": [
       "array([[2, 3],\n",
       "       [2, 4]])"
      ]
     },
     "execution_count": 21,
     "metadata": {},
     "output_type": "execute_result"
    }
   ],
   "source": [
    "#Extract the first 2 rows and first 2 columns\n",
    "arr2D[:2, :2]"
   ]
  },
  {
   "cell_type": "code",
   "execution_count": 22,
   "metadata": {},
   "outputs": [
    {
     "data": {
      "text/plain": [
       "[2, 4, 6, 8]"
      ]
     },
     "execution_count": 22,
     "metadata": {},
     "output_type": "execute_result"
    }
   ],
   "source": [
    "#Doing the same thing for lists will output an error because, lists are indexed in a special way\n",
    "#list2d[:2, :2] = error\n",
    "list2d[1]"
   ]
  },
  {
   "cell_type": "code",
   "execution_count": 23,
   "metadata": {},
   "outputs": [
    {
     "name": "stdout",
     "output_type": "stream",
     "text": [
      "[[False  True  True  True]\n",
      " [False  True  True  True]\n",
      " [ True False False  True]]\n"
     ]
    }
   ],
   "source": [
    "#lastly, numpy arrays support boolean indexing\n",
    "list2d = ([2,3,4,5], [2,4,6,8], [3,2,1,4])\n",
    "arr2D = np.array(list2d, dtype= \"int\")\n",
    "#Get boolean output by adding condition to each element\n",
    "B = arr2D > 2\n",
    "print(B)"
   ]
  },
  {
   "cell_type": "code",
   "execution_count": 24,
   "metadata": {},
   "outputs": [
    {
     "data": {
      "text/plain": [
       "array([3, 4, 5, 4, 6, 8, 3, 4])"
      ]
     },
     "execution_count": 24,
     "metadata": {},
     "output_type": "execute_result"
    }
   ],
   "source": [
    "arr2D.size\n",
    "#The code below will output the True values\n",
    "arr2D[B]"
   ]
  },
  {
   "cell_type": "code",
   "execution_count": 25,
   "metadata": {},
   "outputs": [
    {
     "name": "stdout",
     "output_type": "stream",
     "text": [
      "[[False False False  True]\n",
      " [False False  True  True]\n",
      " [False False False False]]\n"
     ]
    }
   ],
   "source": [
    "C = arr2D > 4\n",
    "print(C)"
   ]
  },
  {
   "cell_type": "code",
   "execution_count": 26,
   "metadata": {},
   "outputs": [
    {
     "data": {
      "text/plain": [
       "array([5, 6, 8])"
      ]
     },
     "execution_count": 26,
     "metadata": {},
     "output_type": "execute_result"
    }
   ],
   "source": [
    "#The code below will output the False values\n",
    "arr2D[C]"
   ]
  },
  {
   "cell_type": "code",
   "execution_count": 28,
   "metadata": {},
   "outputs": [
    {
     "data": {
      "text/plain": [
       "(3, 4)"
      ]
     },
     "execution_count": 28,
     "metadata": {},
     "output_type": "execute_result"
    }
   ],
   "source": [
    "arr2D.shape"
   ]
  },
  {
   "cell_type": "markdown",
   "metadata": {},
   "source": [
    "##### NOTE: Always note that when you index using the Code arr2D[x], where \"x\" is any variable name assigned to the numpy array,it only outputs the True or False statement that is greater in number."
   ]
  },
  {
   "cell_type": "markdown",
   "metadata": {},
   "source": [
    "# PART 4"
   ]
  },
  {
   "cell_type": "markdown",
   "metadata": {},
   "source": [
    "## How to reverse the Rows and the whole Array"
   ]
  },
  {
   "cell_type": "markdown",
   "metadata": {},
   "source": [
    "##### Note:Reversing an array works like what you would do in lists, but you have to reverse the axes one after the other."
   ]
  },
  {
   "cell_type": "code",
   "execution_count": 91,
   "metadata": {},
   "outputs": [
    {
     "name": "stdout",
     "output_type": "stream",
     "text": [
      "[[2 3 4]\n",
      " [1 2 3]\n",
      " [2 2 3]]\n"
     ]
    }
   ],
   "source": [
    "list1_2d = [[2,3,4], [1,2,3], [2,2,3]]\n",
    "arr2d_re = np.array(list1_2d, dtype = \"int\")\n",
    "print(arr2d_re)"
   ]
  },
  {
   "cell_type": "code",
   "execution_count": 102,
   "metadata": {},
   "outputs": [
    {
     "data": {
      "text/plain": [
       "array([[2, 2, 3],\n",
       "       [1, 2, 3],\n",
       "       [2, 3, 4]])"
      ]
     },
     "execution_count": 102,
     "metadata": {},
     "output_type": "execute_result"
    }
   ],
   "source": [
    "#Reverse only the row position by taking the one at the bottom to the top and \n",
    "#taking the one at the top to the bottom\n",
    "arr2d_re[::-1, ]"
   ]
  },
  {
   "cell_type": "code",
   "execution_count": null,
   "metadata": {},
   "outputs": [],
   "source": [
    "#Reverse both the row and column by taking the one at the left to the right and \n",
    "#taking the one at the right to the left.\n",
    "arr2d_re[::-1, ::-1]"
   ]
  },
  {
   "cell_type": "markdown",
   "metadata": {},
   "source": [
    "# PART 5"
   ]
  },
  {
   "cell_type": "markdown",
   "metadata": {},
   "source": [
    "## How to represent missing values and infinite Values"
   ]
  },
  {
   "cell_type": "markdown",
   "metadata": {},
   "source": [
    "#### To represent missing values, the following are used:\n",
    "np.nan (not a number)\n",
    "np.inf (infinite number)"
   ]
  },
  {
   "cell_type": "code",
   "execution_count": 95,
   "metadata": {},
   "outputs": [
    {
     "data": {
      "text/plain": [
       "array([[2., 3., 4., 5.],\n",
       "       [1., 2., 3., 4.],\n",
       "       [4., 3., 2., 1.]])"
      ]
     },
     "execution_count": 95,
     "metadata": {},
     "output_type": "execute_result"
    }
   ],
   "source": [
    "import numpy as np\n",
    "list4 = [[2,3,4,5], [1,2,3,4], [4,3,2,1]]\n",
    "arr2d_new = np.array(list4)\n",
    "arr2d_new.astype(\"float\")"
   ]
  },
  {
   "cell_type": "code",
   "execution_count": 96,
   "metadata": {},
   "outputs": [],
   "source": [
    "# arr2d[1,1] = 0\n",
    "# arr2d[1,2] = 0\n",
    "# print(arr2d)"
   ]
  },
  {
   "cell_type": "code",
   "execution_count": 97,
   "metadata": {},
   "outputs": [],
   "source": [
    "# arr2d[1,1] = np.nan\n",
    "# arr2d[1,2] = np.inf\n",
    "# print(arr2d)"
   ]
  },
  {
   "cell_type": "markdown",
   "metadata": {},
   "source": [
    "# PART 6"
   ]
  },
  {
   "cell_type": "markdown",
   "metadata": {},
   "source": [
    "#### How to Compute Mean, Max, Min on ndarray"
   ]
  },
  {
   "cell_type": "code",
   "execution_count": 104,
   "metadata": {},
   "outputs": [
    {
     "name": "stdout",
     "output_type": "stream",
     "text": [
      "The mean is 2.8333333333333335\n"
     ]
    }
   ],
   "source": [
    "#Compute mean--The is the average of the overall matrix\n",
    "mean1 = arr2d_new.mean()\n",
    "print(\"The mean is\", mean1)"
   ]
  },
  {
   "cell_type": "code",
   "execution_count": 105,
   "metadata": {},
   "outputs": [
    {
     "name": "stdout",
     "output_type": "stream",
     "text": [
      "The min is:  1\n"
     ]
    }
   ],
   "source": [
    "#cmpute min--The is the smallest number\n",
    "min1 = arr2d_new.min()\n",
    "print(\"The min is: \", min1)"
   ]
  },
  {
   "cell_type": "code",
   "execution_count": 106,
   "metadata": {},
   "outputs": [
    {
     "name": "stdout",
     "output_type": "stream",
     "text": [
      "The max is 5\n"
     ]
    }
   ],
   "source": [
    "#compute the max-- The max is the largest number of the matrice\n",
    "max1 = arr2d_new.max()\n",
    "print(\"The max is\", max1)"
   ]
  },
  {
   "cell_type": "markdown",
   "metadata": {},
   "source": [
    "##### The minimum  values can be gotten row wise and column wise. axis = 0 is for column, while axis = 1 is for row. Then the function \"\"np.amin()\"\" is used.\n",
    "\n",
    "##### The np.amin(axis = 0) function outputs the minnimum number on all individual columns \n",
    "##### The np.amin(axis = 1) function outputs the minnimum number on all individual Rows"
   ]
  },
  {
   "cell_type": "code",
   "execution_count": 108,
   "metadata": {},
   "outputs": [
    {
     "name": "stdout",
     "output_type": "stream",
     "text": [
      "Column wise minimum : [1 2 2 1]\n"
     ]
    }
   ],
   "source": [
    "print(\"Column wise minimum :\", np.amin(arr2d_new, axis = 0))"
   ]
  },
  {
   "cell_type": "code",
   "execution_count": 109,
   "metadata": {},
   "outputs": [
    {
     "name": "stdout",
     "output_type": "stream",
     "text": [
      "Row wise minimum : [2 1 1]\n"
     ]
    }
   ],
   "source": [
    "print(\"Row wise minimum :\", np.amin(arr2d_new, axis = 1))"
   ]
  },
  {
   "cell_type": "markdown",
   "metadata": {},
   "source": [
    "##### Note: you might want to do some computation row wise or column wise, the code code below can be used np.apply_over_axis, this will be discussed in later chapters."
   ]
  },
  {
   "cell_type": "code",
   "execution_count": 110,
   "metadata": {},
   "outputs": [
    {
     "data": {
      "text/plain": [
       "array([ 2,  5,  9, 14, 15, 17, 20, 24, 28, 31, 33, 34], dtype=int32)"
      ]
     },
     "execution_count": 110,
     "metadata": {},
     "output_type": "execute_result"
    }
   ],
   "source": [
    "#Cumulative Sum\n",
    "np.cumsum(arr2d_new)"
   ]
  },
  {
   "cell_type": "raw",
   "metadata": {},
   "source": []
  },
  {
   "cell_type": "markdown",
   "metadata": {},
   "source": [
    "# PART 7"
   ]
  },
  {
   "cell_type": "markdown",
   "metadata": {},
   "source": [
    "#### How to create an array from an existing array"
   ]
  },
  {
   "cell_type": "code",
   "execution_count": 112,
   "metadata": {},
   "outputs": [
    {
     "name": "stdout",
     "output_type": "stream",
     "text": [
      "[[2 3 4 5]\n",
      " [1 2 3 4]\n",
      " [4 3 2 1]]\n"
     ]
    }
   ],
   "source": [
    "#call an Array\n",
    "print(arr2d_new)"
   ]
  },
  {
   "cell_type": "code",
   "execution_count": 115,
   "metadata": {},
   "outputs": [
    {
     "name": "stdout",
     "output_type": "stream",
     "text": [
      "[[2 3]\n",
      " [1 2]]\n"
     ]
    }
   ],
   "source": [
    "#assign part of array2d_new to a new variable\n",
    "arr_part = arr2d_new[:2,:2]\n",
    "print(arr_part)"
   ]
  },
  {
   "cell_type": "code",
   "execution_count": 118,
   "metadata": {},
   "outputs": [
    {
     "name": "stdout",
     "output_type": "stream",
     "text": [
      "[[2 3]\n",
      " [1 2]]\n"
     ]
    }
   ],
   "source": [
    "#Copy the part of that array into a new variable\n",
    "arr_part1 = arr_part.copy()\n",
    "print(arr_part1)"
   ]
  },
  {
   "cell_type": "markdown",
   "metadata": {},
   "source": [
    "# PART 8"
   ]
  },
  {
   "cell_type": "markdown",
   "metadata": {},
   "source": [
    "#### Reshaping and flattening multidimensional Array"
   ]
  },
  {
   "cell_type": "markdown",
   "metadata": {},
   "source": [
    "##### 1)when you reshape an array, the Arrangement of its item changes but the dimension remains the same"
   ]
  },
  {
   "cell_type": "code",
   "execution_count": 121,
   "metadata": {},
   "outputs": [
    {
     "data": {
      "text/plain": [
       "array([[2, 3, 4],\n",
       "       [5, 1, 2],\n",
       "       [3, 4, 4],\n",
       "       [3, 2, 1]])"
      ]
     },
     "execution_count": 121,
     "metadata": {},
     "output_type": "execute_result"
    }
   ],
   "source": [
    "#use .reshape() function\n",
    "arr2d_new.reshape(4, 3)"
   ]
  },
  {
   "cell_type": "markdown",
   "metadata": {},
   "source": [
    "###### Note: when reshaping an array, the new shape must correspond to the number of items present e.g a 3 x 4 array has 12 elements, if you reshape it to 3 x 2, you will get an error. But you can reshape to 2 x 6"
   ]
  },
  {
   "cell_type": "markdown",
   "metadata": {},
   "source": [
    "##### 2) when you flatten an array, it means you are changing the array from whatever dimension it was to a 1 dimensional array."
   ]
  },
  {
   "cell_type": "markdown",
   "metadata": {},
   "source": [
    "# PART 9"
   ]
  },
  {
   "cell_type": "markdown",
   "metadata": {},
   "source": [
    "#### The Difference Between flatten() and ravel()"
   ]
  },
  {
   "cell_type": "markdown",
   "metadata": {},
   "source": [
    "###### The major difference between flatten() and ravel() is that, ravel() is a reference to the parent array, i.e any changes made to the flattened array affects the parent array.\n",
    "\n",
    "###### Although both of them perform same functions by being able to convert multidimensional array to a 1D array."
   ]
  },
  {
   "cell_type": "code",
   "execution_count": 127,
   "metadata": {},
   "outputs": [
    {
     "name": "stdout",
     "output_type": "stream",
     "text": [
      "[2 3 4 5 1 2 3 4 4 3 2 1]\n"
     ]
    }
   ],
   "source": [
    "#using ravel function\n",
    "arr_rav = arr2d_new.ravel()\n",
    "print(arr_rav)"
   ]
  },
  {
   "cell_type": "code",
   "execution_count": 128,
   "metadata": {},
   "outputs": [
    {
     "name": "stdout",
     "output_type": "stream",
     "text": [
      "[2 3 4 5 1 2 3 4 4 3 2 1]\n"
     ]
    }
   ],
   "source": [
    "#using flatten function\n",
    "arr2d_flat = arr2d_new.flatten()\n",
    "print(arr2d_flat)"
   ]
  },
  {
   "cell_type": "markdown",
   "metadata": {},
   "source": [
    "# PART 10"
   ]
  },
  {
   "cell_type": "markdown",
   "metadata": {},
   "source": [
    "#### Creating Sequences, repetitions and random numbers in Numpy"
   ]
  },
  {
   "cell_type": "markdown",
   "metadata": {},
   "source": [
    "###### The np.arange function comes in Handy, when trying to create a customized number sequence."
   ]
  },
  {
   "cell_type": "markdown",
   "metadata": {},
   "source": [
    "###### Note lower limit is always zero(0)"
   ]
  },
  {
   "cell_type": "code",
   "execution_count": 129,
   "metadata": {},
   "outputs": [
    {
     "name": "stdout",
     "output_type": "stream",
     "text": [
      "[0 1 2 3 4]\n"
     ]
    }
   ],
   "source": [
    "# lower limit is zero\n",
    "print(np.arange(5))"
   ]
  },
  {
   "cell_type": "code",
   "execution_count": 130,
   "metadata": {},
   "outputs": [
    {
     "name": "stdout",
     "output_type": "stream",
     "text": [
      "[0 1 2 3 4 5 6 7 8 9]\n"
     ]
    }
   ],
   "source": [
    "# 0 to 9\n",
    "print(np.arange(0,10))"
   ]
  },
  {
   "cell_type": "code",
   "execution_count": 131,
   "metadata": {},
   "outputs": [
    {
     "name": "stdout",
     "output_type": "stream",
     "text": [
      "[0 2 4 6 8]\n"
     ]
    }
   ],
   "source": [
    "# 0 to 9 with a step of 2\n",
    "print(np.arange(0,10,2))"
   ]
  },
  {
   "cell_type": "code",
   "execution_count": 137,
   "metadata": {},
   "outputs": [
    {
     "name": "stdout",
     "output_type": "stream",
     "text": [
      "[10  9  8  7  6  5  4  3  2  1]\n"
     ]
    }
   ],
   "source": [
    "# 10 to 1, in a decreasing order\n",
    "print(np.arange(10,0,-1))"
   ]
  },
  {
   "cell_type": "code",
   "execution_count": 139,
   "metadata": {},
   "outputs": [
    {
     "name": "stdout",
     "output_type": "stream",
     "text": [
      "[ 1  6 11 16 21 26 31 36 41 46]\n"
     ]
    }
   ],
   "source": [
    "#Create exactly 10 numbers between 1 and 50\n",
    "print(np.arange(1,50,5))"
   ]
  },
  {
   "cell_type": "markdown",
   "metadata": {},
   "source": [
    "###### in order to prevent you from calculating the exact step that will give you exactly 10 numbers from 1 and 50, you can use the np.lonsapce() function. "
   ]
  },
  {
   "cell_type": "code",
   "execution_count": 145,
   "metadata": {},
   "outputs": [
    {
     "name": "stdout",
     "output_type": "stream",
     "text": [
      "[ 1  6 11 17 22 28 33 39 44 50]\n"
     ]
    }
   ],
   "source": [
    "#start at 1 and stop at 50 \n",
    "print(np.linspace(start=1, stop=50, num=10, dtype=\"int\"))"
   ]
  },
  {
   "cell_type": "markdown",
   "metadata": {},
   "source": [
    "###### note that in the above code, the dtype was explicitly typed, thereby making the numbers unequally spaced."
   ]
  },
  {
   "cell_type": "code",
   "execution_count": 148,
   "metadata": {},
   "outputs": [
    {
     "name": "stdout",
     "output_type": "stream",
     "text": [
      "[1.00000000e+01 2.78255940e+06 7.74263683e+11 2.15443469e+17\n",
      " 5.99484250e+22 1.66810054e+28 4.64158883e+33 1.29154967e+39\n",
      " 3.59381366e+44 1.00000000e+50]\n"
     ]
    }
   ],
   "source": [
    "# similar to np.linspace(), there is np.logspace()\n",
    "#start = 0, stop = 0\n",
    "print(np.logspace(start=1, stop=50, num=10, base=10))\n",
    "#using np.logspace() all number starts with base10(10^)"
   ]
  },
  {
   "cell_type": "code",
   "execution_count": 150,
   "metadata": {},
   "outputs": [
    {
     "name": "stdout",
     "output_type": "stream",
     "text": [
      "[1.00e+01 2.78e+06 7.74e+11 2.15e+17 5.99e+22 1.67e+28 4.64e+33 1.29e+39\n",
      " 3.59e+44 1.00e+50]\n"
     ]
    }
   ],
   "source": [
    "#limit the number of Decimals to 2\n",
    "np.set_printoptions(precision=2)\n",
    "print(np.logspace(start=1, stop=50, num=10, base=10))"
   ]
  },
  {
   "cell_type": "markdown",
   "metadata": {},
   "source": [
    "#### np.ones() and np.zeros() helps you ceate desired arrays where the items are either 1s or 0s."
   ]
  },
  {
   "cell_type": "code",
   "execution_count": 158,
   "metadata": {},
   "outputs": [
    {
     "name": "stdout",
     "output_type": "stream",
     "text": [
      "[[1. 1.]\n",
      " [1. 1.]]\n"
     ]
    }
   ],
   "source": [
    "#cretae an array and set all of its items to one(1)\n",
    "onesArr = np.ones([2,2])\n",
    "print(onesArr)"
   ]
  },
  {
   "cell_type": "code",
   "execution_count": 160,
   "metadata": {},
   "outputs": [
    {
     "name": "stdout",
     "output_type": "stream",
     "text": [
      "[[0 0]\n",
      " [0 0]]\n"
     ]
    }
   ],
   "source": [
    "#create an array and set all of its items to zero(0\n",
    "zerosArr = np.zeros([2,2], dtype = \"int\" )\n",
    "print(zerosArr)"
   ]
  },
  {
   "cell_type": "markdown",
   "metadata": {},
   "source": [
    "# PART 11"
   ]
  },
  {
   "cell_type": "markdown",
   "metadata": {},
   "source": [
    "#### Creating repeating sequences"
   ]
  },
  {
   "cell_type": "markdown",
   "metadata": {},
   "source": [
    "###### np.tile() will repeat a list or an array n times, while np.repeat() will repeat each item in the array n times."
   ]
  },
  {
   "cell_type": "code",
   "execution_count": 161,
   "metadata": {},
   "outputs": [
    {
     "name": "stdout",
     "output_type": "stream",
     "text": [
      "[1 2 3 1 2 3 1 2 3]\n"
     ]
    }
   ],
   "source": [
    "Num = [1,2,3]\n",
    "tiles = np.tile(Num, 3)\n",
    "print(tiles)"
   ]
  },
  {
   "cell_type": "code",
   "execution_count": 163,
   "metadata": {},
   "outputs": [
    {
     "name": "stdout",
     "output_type": "stream",
     "text": [
      "[1 1 1 2 2 2 3 3 3]\n"
     ]
    }
   ],
   "source": [
    "Num = [1,2,3]\n",
    "repeats = np.repeat(Num, 3)\n",
    "print(repeats)"
   ]
  },
  {
   "cell_type": "markdown",
   "metadata": {},
   "source": [
    "# Part 12"
   ]
  },
  {
   "cell_type": "markdown",
   "metadata": {},
   "source": [
    "#### How to Generate Random numbers"
   ]
  },
  {
   "cell_type": "code",
   "execution_count": null,
   "metadata": {},
   "outputs": [],
   "source": []
  },
  {
   "cell_type": "code",
   "execution_count": null,
   "metadata": {},
   "outputs": [],
   "source": []
  }
 ],
 "metadata": {
  "kernelspec": {
   "display_name": "Python 3",
   "language": "python",
   "name": "python3"
  },
  "language_info": {
   "codemirror_mode": {
    "name": "ipython",
    "version": 3
   },
   "file_extension": ".py",
   "mimetype": "text/x-python",
   "name": "python",
   "nbconvert_exporter": "python",
   "pygments_lexer": "ipython3",
   "version": "3.7.3"
  }
 },
 "nbformat": 4,
 "nbformat_minor": 4
}
